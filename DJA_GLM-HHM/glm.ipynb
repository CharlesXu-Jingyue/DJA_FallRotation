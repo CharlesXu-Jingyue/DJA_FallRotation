{
 "cells": [
  {
   "cell_type": "markdown",
   "metadata": {},
   "source": [
    "# GLM\n",
    "\n",
    "## Set up environment"
   ]
  },
  {
   "cell_type": "code",
   "execution_count": 121,
   "metadata": {},
   "outputs": [],
   "source": [
    "# Import packages\n",
    "import sys; sys.path.insert(0, r'/Users/alveus/Documents/WorkingDirectory/Packages/Python')\n",
    "import numpy as np\n",
    "import numpy.random as npr\n",
    "import matplotlib.pyplot as plt\n",
    "import scipy.io as sio\n",
    "\n",
    "import statsmodels.api as sm\n",
    "\n",
    "from sklearn import linear_model\n",
    "from sklearn.model_selection import KFold\n",
    "from sklearn.metrics import r2_score\n",
    "\n",
    "# import ssm\n",
    "# from ssm.util import find_permutation"
   ]
  },
  {
   "cell_type": "code",
   "execution_count": 78,
   "metadata": {},
   "outputs": [],
   "source": [
    "# Load data\n",
    "mat = sio.loadmat(r\"D:\\DJA\\Jineun\\EG1-4\\neural_male\\EG1-4-fasted-0629-regis from fed male_neural_behavior_py.mat\")\n",
    "x_raw = mat['behaviorFullMaFPS']\n",
    "y = np.array(mat['neural_ref']).T\n",
    "label_raw = mat['behaviorNames']\n",
    "labels = []\n",
    "for i in range(len(label_raw)):\n",
    "    labels.append(label_raw[i][0][0])"
   ]
  },
  {
   "cell_type": "markdown",
   "metadata": {},
   "source": [
    "## Processing data"
   ]
  },
  {
   "cell_type": "code",
   "execution_count": 299,
   "metadata": {},
   "outputs": [
    {
     "name": "stdout",
     "output_type": "stream",
     "text": [
      "Dimensions of x: 273\n",
      "Dimensions of y: 73\n",
      "Total time points: 14759\n"
     ]
    }
   ],
   "source": [
    "# Function: design matrix\n",
    "def design_matrix(data, time_window, frame_rate):\n",
    "    \"\"\"\n",
    "    data: behavior data\n",
    "    time_window: time window for design matrix (plus or minus)\n",
    "    frame_rate: frame rate of data\n",
    "    \"\"\"\n",
    "    num_rows = data.shape[0]\n",
    "    num_shifts = int(time_window * frame_rate)\n",
    "    design_matrix = np.zeros((num_rows*(2*num_shifts+1), data.shape[1]))\n",
    "\n",
    "    for i in range(num_rows):\n",
    "        for j in range(-num_shifts, num_shifts+1):\n",
    "            if j == 0:\n",
    "                design_matrix[i*(num_shifts+1)+j+num_shifts, :] = data[i,:]\n",
    "            elif j < 0:\n",
    "                design_matrix[i*(num_shifts+1)+j+num_shifts, 0:j] = data[i,-j:]\n",
    "            else:\n",
    "                design_matrix[i*(num_shifts+1)+j+num_shifts, j:] = data[i,0:-j]\n",
    "    return design_matrix\n",
    "\n",
    "x = design_matrix(x_raw, 1, 10).T\n",
    "xd = x.shape[1]\n",
    "yd = y.shape[1]\n",
    "tt = x.shape[0]\n",
    "print(f'Dimensions of x: {xd}')\n",
    "print(f'Dimensions of y: {yd}')\n",
    "print(f'Total time points: {tt}')"
   ]
  },
  {
   "cell_type": "code",
   "execution_count": 297,
   "metadata": {},
   "outputs": [
    {
     "data": {
      "text/plain": [
       "((14759, 273), (14759, 73))"
      ]
     },
     "execution_count": 297,
     "metadata": {},
     "output_type": "execute_result"
    }
   ],
   "source": [
    "x.shape, y.shape"
   ]
  },
  {
   "cell_type": "markdown",
   "metadata": {},
   "source": [
    "### Normalization / z-score\n",
    "\n",
    "<font color='red'>Normalization vs z-score? (at least not for binary task variables)</font>"
   ]
  },
  {
   "cell_type": "code",
   "execution_count": 93,
   "metadata": {},
   "outputs": [
    {
     "name": "stderr",
     "output_type": "stream",
     "text": [
      "C:\\Users\\Charles\\AppData\\Local\\Temp\\ipykernel_25956\\456450691.py:2: RuntimeWarning: invalid value encountered in divide\n",
      "  x = (x - np.min(x, axis=0)) / (np.max(x, axis=0) - np.min(x, axis=0)) # normalize columns of x\n"
     ]
    }
   ],
   "source": [
    "# Min-max normalization\n",
    "# x = (x - np.min(x, axis=0)) / (np.max(x, axis=0) - np.min(x, axis=0)) # normalize columns of x\n",
    "# y = (y - np.min(y, axis=0)) / (np.max(y, axis=0) - np.min(y, axis=0)) # normalize columns of y\n",
    "\n",
    "# Mean center y\n",
    "y = y  - np.mean(y, axis=0)"
   ]
  },
  {
   "cell_type": "markdown",
   "metadata": {},
   "source": [
    "## Fit GLMs"
   ]
  },
  {
   "cell_type": "code",
   "execution_count": 276,
   "metadata": {},
   "outputs": [],
   "source": [
    "# Set up k-fold cross-validation\n",
    "n_folds = 5 # Number of folds for cross-validation\n",
    "kf = KFold(n_splits=n_folds, shuffle=True) # Initialize KFold object"
   ]
  },
  {
   "cell_type": "markdown",
   "metadata": {},
   "source": [
    "### Fit using simple linear regression"
   ]
  },
  {
   "cell_type": "code",
   "execution_count": 96,
   "metadata": {},
   "outputs": [],
   "source": [
    "# # Function: linear regression using OLS\n",
    "# def ols(x,y):\n",
    "#     \"\"\"\n",
    "#     x: design matrix\n",
    "#     y: neural data\n",
    "#     \"\"\"\n",
    "#     betas = np.linalg.inv(x.T @ x) @ x.T @ y # the @ symbol is equivalent to np.matmul()\n",
    "#     return betas"
   ]
  },
  {
   "cell_type": "code",
   "execution_count": null,
   "metadata": {},
   "outputs": [],
   "source": [
    "# # Function: R-squared\n",
    "# def r_squared(y_true, y_pred):\n",
    "#     \"\"\"\n",
    "#     y_true: true value\n",
    "#     y_pred: predicted value\n",
    "#     \"\"\"\n",
    "#     r_squared = 1-np.sum((y_true-y_pred)**2)/np.sum((y_true-np.mean(y_true))**2)\n",
    "#     return r_squared"
   ]
  },
  {
   "cell_type": "code",
   "execution_count": 277,
   "metadata": {},
   "outputs": [],
   "source": [
    "# Fit linear regression model\n",
    "linreg = linear_model.LinearRegression()\n",
    "\n",
    "betas_lin = np.zeros((yd, xd, n_folds)) # Initialize betas matrix\n",
    "r2_lin = np.zeros((yd, n_folds)) # Initialize r2 matrix\n",
    "\n",
    "for i, (train_index, test_index) in enumerate(kf.split(x)): # Loop through folds\n",
    "    x_train, x_test = x[train_index], x[test_index] # Split x into train and test sets\n",
    "    y_train, y_test = y[train_index], y[test_index] # Split y into train and test sets\n",
    "\n",
    "    linreg.fit(x_train, y_train) # Fit ridge regression model\n",
    "    betas_lin[:,:,i] = linreg.coef_ # Store betas\n",
    "\n",
    "    y_pred = linreg.predict(x_test) # Predict y\n",
    "    r2_lin[:,i] = r2_score(y_test, y_pred, multioutput='raw_values') # Calculate R2\n",
    "\n",
    "betas_lin = np.mean(betas_lin, axis=2) # Average betas across folds\n",
    "r2_lin = np.mean(r2_lin, axis=1) # Average R2 across folds\n"
   ]
  },
  {
   "cell_type": "code",
   "execution_count": null,
   "metadata": {},
   "outputs": [],
   "source": [
    "# # Print beta weights for each behavior\n",
    "# for label, beta in zip(labels, betas):\n",
    "#     print(f'OLS beta weight for {label}: {len(beta)}')"
   ]
  },
  {
   "cell_type": "markdown",
   "metadata": {},
   "source": [
    "### Fit using ridge regression which penalizes $\\beta$ by $L_2$ regularization\n",
    "\n",
    "#### Determine the best complexity parameter, $\\alpha$, using grid search CV"
   ]
  },
  {
   "cell_type": "code",
   "execution_count": 278,
   "metadata": {},
   "outputs": [],
   "source": [
    "# Set up grid search CV\n",
    "alpha_test_range = 10**np.linspace(-10,9,50) # Get search values for alpha on log scale\n",
    "\n",
    "fit_intercept = False # If y is mean-centered, set to False\n",
    "alpha_per_target = True # Allow every neuron to be regularized individualy for better model performance\n",
    "\n",
    "# Perform grid search CV using RidgeCV\n",
    "ridge_grid_search = linear_model.RidgeCV(alphas=alpha_test_range, fit_intercept=fit_intercept, scoring='r2', store_cv_values=True, alpha_per_target=alpha_per_target)\n",
    "ridge_grid_search.fit(x,y)\n",
    "alphas = ridge_grid_search.alpha_"
   ]
  },
  {
   "cell_type": "markdown",
   "metadata": {},
   "source": [
    "#### Fit ridge regression"
   ]
  },
  {
   "cell_type": "code",
   "execution_count": 279,
   "metadata": {},
   "outputs": [],
   "source": [
    "# Fit ridge regression model\n",
    "ridgereg = linear_model.Ridge(alpha=alphas, fit_intercept=fit_intercept) # Initialize Ridge object\n",
    "\n",
    "betas_ridge = np.zeros((yd, xd, n_folds)) # Initialize betas matrix\n",
    "r2_ridge = np.zeros((yd, n_folds)) # Initialize r2 matrix\n",
    "\n",
    "for i, (train_index, test_index) in enumerate(kf.split(x)): # Loop through folds\n",
    "    x_train, x_test = x[train_index], x[test_index] # Split x into train and test sets\n",
    "    y_train, y_test = y[train_index], y[test_index] # Split y into train and test sets\n",
    "\n",
    "    ridgereg.fit(x_train, y_train) # Fit ridge regression model\n",
    "    betas_ridge[:,:,i] = ridgereg.coef_ # Store betas\n",
    "\n",
    "    y_pred = ridgereg.predict(x_test) # Predict y\n",
    "    r2_ridge[:,i] = r2_score(y_test, y_pred, multioutput='raw_values') # Calculate R2\n",
    "\n",
    "betas_ridge = np.mean(betas_ridge, axis=2) # Average betas across folds\n",
    "r2_ridge = np.mean(r2_ridge, axis=1) # Average R2 across folds"
   ]
  },
  {
   "cell_type": "code",
   "execution_count": 275,
   "metadata": {},
   "outputs": [],
   "source": [
    "# for i, (train_index, test_index) in enumerate(kf.split(x)): # Loop through folds\n",
    "#     print(i, train_index, test_index)"
   ]
  },
  {
   "cell_type": "markdown",
   "metadata": {},
   "source": [
    "### Fit using LASSO regression which penalizes $\\beta$ by $L_1$ regularization"
   ]
  },
  {
   "cell_type": "code",
   "execution_count": null,
   "metadata": {},
   "outputs": [],
   "source": []
  },
  {
   "cell_type": "markdown",
   "metadata": {},
   "source": [
    "## Assess model performance\n",
    "\n",
    "### Cross-validated R-squared score"
   ]
  },
  {
   "cell_type": "code",
   "execution_count": 318,
   "metadata": {},
   "outputs": [
    {
     "data": {
      "text/plain": [
       "Text(0, 0.5, 'cross-validated R²')"
      ]
     },
     "execution_count": 318,
     "metadata": {},
     "output_type": "execute_result"
    },
    {
     "data": {
      "image/png": "[encoded data removed]",
      "text/plain": [
       "<Figure size 640x480 with 1 Axes>"
      ]
     },
     "metadata": {},
     "output_type": "display_data"
    }
   ],
   "source": [
    "# Plot R-squared for each neuron using OLS\n",
    "idx_lin = np.argsort(r2_lin)[::-1]\n",
    "\n",
    "ax = plt.figure().add_subplot(111)\n",
    "ax.plot(r2_lin[idx_lin], color = 'k')\n",
    "ax.spines['top'].set_visible(False)\n",
    "ax.spines['right'].set_visible(False)\n",
    "ax.spines['left'].set_bounds([min(r2_lin),max(r2_lin)])\n",
    "ax.spines['bottom'].set_bounds([0,yd])\n",
    "ax.set_xlabel('Neuron number')\n",
    "ax.set_ylabel('cross-validated R\\u00b2')"
   ]
  },
  {
   "cell_type": "code",
   "execution_count": 319,
   "metadata": {},
   "outputs": [
    {
     "data": {
      "text/plain": [
       "Text(0, 0.5, 'cross-validated R²')"
      ]
     },
     "execution_count": 319,
     "metadata": {},
     "output_type": "execute_result"
    },
    {
     "data": {
      "image/png": "[encoded data removed]",
      "text/plain": [
       "<Figure size 640x480 with 1 Axes>"
      ]
     },
     "metadata": {},
     "output_type": "display_data"
    }
   ],
   "source": [
    "# Plot R-squared for each neuron using ridge regression\n",
    "idx_ridge = np.argsort(r2_ridge)[::-1]\n",
    "\n",
    "ax = plt.figure().add_subplot(111)\n",
    "ax.plot(r2_ridge[idx_ridge], color = 'r')\n",
    "ax.spines['top'].set_visible(False)\n",
    "ax.spines['right'].set_visible(False)\n",
    "ax.spines['left'].set_bounds([min(r2_ridge),max(r2_ridge)])\n",
    "ax.spines['bottom'].set_bounds([0,yd])\n",
    "ax.set_xlabel('Neuron number')\n",
    "ax.set_ylabel('cross-validated R\\u00b2')"
   ]
  }
 ],
 "metadata": {
  "kernelspec": {
   "display_name": "Python 3",
   "language": "python",
   "name": "python3"
  },
  "language_info": {
   "codemirror_mode": {
    "name": "ipython",
    "version": 3
   },
   "file_extension": ".py",
   "mimetype": "text/x-python",
   "name": "python",
   "nbconvert_exporter": "python",
   "pygments_lexer": "ipython3",
   "version": "3.11.5"
  }
 },
 "nbformat": 4,
 "nbformat_minor": 2
}
