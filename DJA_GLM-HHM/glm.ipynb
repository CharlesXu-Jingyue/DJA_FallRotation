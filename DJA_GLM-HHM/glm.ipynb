{
 "cells": [
  {
   "cell_type": "code",
   "execution_count": null,
   "metadata": {},
   "outputs": [],
   "source": [
    "# GLM\n",
    "\n",
    "## Set up environment"
   ]
  },
  {
   "cell_type": "code",
   "execution_count": 1,
   "metadata": {},
   "outputs": [],
   "source": [
    "# Import packages\n",
    "import sys; sys.path.insert(0, r'/Users/alveus/Documents/WorkingDirectory/Packages/Python')\n",
    "import numpy as np\n",
    "import numpy.random as npr\n",
    "import matplotlib.pyplot as plt\n",
    "import scipy.io as sio\n",
    "\n",
    "import statsmodels.api as sm\n",
    "\n",
    "# import ssm\n",
    "# from ssm.util import find_permutation"
   ]
  },
  {
   "cell_type": "code",
   "execution_count": 33,
   "metadata": {},
   "outputs": [
    {
     "data": {
      "text/plain": [
       "(3, 8043)"
      ]
     },
     "execution_count": 33,
     "metadata": {},
     "output_type": "execute_result"
    }
   ],
   "source": [
    "# Load data\n",
    "mat = sio.loadmat('/Users/alveus/Documents/WorkingDirectory/Data/DJA/Jineun/EG1-4/DJA_JK_EG1-4-fed-0703-regis from fast male_neural_behavior_py.mat')\n",
    "y = mat['neural_ref']\n",
    "x = mat['behaviorFullMaFPS']\n",
    "x.shape"
   ]
  },
  {
   "cell_type": "markdown",
   "metadata": {},
   "source": [
    "## Create design matrix"
   ]
  },
  {
   "cell_type": "code",
   "execution_count": 34,
   "metadata": {},
   "outputs": [
    {
     "data": {
      "text/plain": [
       "array([[0., 0., 0., 0., 0., 0., 0., 0., 0., 0.],\n",
       "       [0., 0., 0., 0., 0., 0., 0., 0., 0., 0.],\n",
       "       [0., 0., 0., 0., 0., 0., 0., 0., 0., 0.],\n",
       "       [0., 0., 0., 0., 0., 0., 0., 0., 0., 0.],\n",
       "       [0., 0., 0., 0., 0., 0., 0., 0., 0., 0.],\n",
       "       [0., 0., 0., 0., 0., 0., 0., 0., 0., 0.],\n",
       "       [0., 0., 0., 0., 0., 0., 0., 0., 0., 0.],\n",
       "       [0., 0., 0., 0., 0., 0., 0., 0., 0., 0.],\n",
       "       [0., 0., 0., 0., 0., 0., 0., 0., 0., 0.],\n",
       "       [0., 0., 0., 0., 0., 0., 0., 0., 0., 0.]])"
      ]
     },
     "execution_count": 34,
     "metadata": {},
     "output_type": "execute_result"
    }
   ],
   "source": [
    "# Design matrix\n",
    "def design_matrix(data, time_window, frame_rate):\n",
    "    \"\"\"\n",
    "    data: behavior data\n",
    "    time_window: time window for design matrix (plus or minus)\n",
    "    frame_rate: frame rate of data\n",
    "    \"\"\"\n",
    "    num_rows = data.shape[0]\n",
    "    num_shifts = int(time_window * frame_rate)\n",
    "    design_matrix = np.zeros((num_rows*(2*num_shifts+1), data.shape[1]))\n",
    "\n",
    "    for i in range(num_rows):\n",
    "        for j in range(-num_shifts, num_shifts+1):\n",
    "            if j == 0:\n",
    "                design_matrix[i*(num_shifts+1)+j+num_shifts, :] = data[i,:]\n",
    "            elif j < 0:\n",
    "                design_matrix[i*(num_shifts+1)+j+num_shifts, 0:j] = data[i,-j:]\n",
    "            else:\n",
    "                design_matrix[i*(num_shifts+1)+j+num_shifts, j:] = data[i,0:-j]\n",
    "    return design_matrix\n",
    "\n",
    "dm = design_matrix(x, 1, 10)\n",
    "dm[0:10,0:10]"
   ]
  },
  {
   "cell_type": "code",
   "execution_count": 36,
   "metadata": {},
   "outputs": [
    {
     "data": {
      "text/plain": [
       "((63, 8044), (73, 8043))"
      ]
     },
     "execution_count": 36,
     "metadata": {},
     "output_type": "execute_result"
    }
   ],
   "source": [
    "exog, endog = sm.add_constant(dm), y\n",
    "exog.shape, endog.shape"
   ]
  },
  {
   "cell_type": "code",
   "execution_count": null,
   "metadata": {},
   "outputs": [],
   "source": []
  }
 ],
 "metadata": {
  "kernelspec": {
   "display_name": "Python 3",
   "language": "python",
   "name": "python3"
  },
  "language_info": {
   "codemirror_mode": {
    "name": "ipython",
    "version": 3
   },
   "file_extension": ".py",
   "mimetype": "text/x-python",
   "name": "python",
   "nbconvert_exporter": "python",
   "pygments_lexer": "ipython3",
   "version": "3.8.8"
  }
 },
 "nbformat": 4,
 "nbformat_minor": 2
}
